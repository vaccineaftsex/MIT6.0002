{
 "cells": [
  {
   "cell_type": "markdown",
   "metadata": {},
   "source": [
    "# Random number generator\n",
    "\n",
    "* for integers"
   ]
  },
  {
   "cell_type": "code",
   "execution_count": null,
   "metadata": {},
   "outputs": [],
   "source": [
    "import random\n",
    "random.seed(0)"
   ]
  },
  {
   "cell_type": "code",
   "execution_count": null,
   "metadata": {},
   "outputs": [],
   "source": [
    "x1 = random.randrange(1, 5, 1)  # a random element in range(1,5,1)\n",
    "x2 = random.randint(0,3)\n",
    "print(x1, x2)"
   ]
  },
  {
   "cell_type": "markdown",
   "metadata": {},
   "source": [
    "* for sequences"
   ]
  },
  {
   "cell_type": "code",
   "execution_count": null,
   "metadata": {},
   "outputs": [],
   "source": [
    "x3 = random.choice([1,2,3,4,5]) \n",
    "x4 = random.choices(population = [1,2,3,4,5], weights = [1,4,2,5,1])  # or cum_weights = [1,5,7,12,13]\n",
    "x5 = random.sample(range(100), k = 3) # length-3 sample list\n",
    "print( x3, x4, x5)\n",
    "\n",
    "random.shuffle(x5)  # if x5 is mutable\n",
    "print(x5)\n",
    "\n",
    "x5_1 = tuple(x5)    # if s5_1 is immutable\n",
    "print(random.sample(x5_1, len(x5_1)))"
   ]
  },
  {
   "cell_type": "markdown",
   "metadata": {},
   "source": [
    "* Real-valued distributions"
   ]
  },
  {
   "cell_type": "code",
   "execution_count": null,
   "metadata": {},
   "outputs": [],
   "source": [
    "a1 = random.random()   # in [0.0, 1.0)\n",
    "a2 = random.uniform(1, 5)\n",
    "a3 = random.triangular(low = 0, high = 1, mode = 1/2*(low+ high)) \n",
    "a4 = random.betavariate(alpha, beta)\n",
    "a5 = random.expovariate(lambd)\n",
    "a6 = random.gammavariate(alpha, beta)\n",
    "a7 = random.gauss(mu, sigma)    # slighter faster than normalvariate\n",
    "a8 = random.normalvariate(mu, sigma)\n",
    "a9 = random.lognormvariate(mu, sigma)"
   ]
  },
  {
   "cell_type": "markdown",
   "metadata": {},
   "source": [
    "# Plotting"
   ]
  },
  {
   "cell_type": "code",
   "execution_count": 9,
   "metadata": {},
   "outputs": [],
   "source": [
    "import pylab\n",
    "#set line width\n",
    "pylab.rcParams['lines.linewidth'] = 2\n",
    "#set font size for titles \n",
    "pylab.rcParams['axes.titlesize'] = 15\n",
    "#set font size for labels on axes\n",
    "pylab.rcParams['axes.labelsize'] = 20\n",
    "#set size of numbers on x-axis\n",
    "pylab.rcParams['xtick.labelsize'] = 16\n",
    "#set size of numbers on y-axis\n",
    "pylab.rcParams['ytick.labelsize'] = 16\n",
    "#set size of ticks on x-axis\n",
    "pylab.rcParams['xtick.major.size'] = 7\n",
    "#set size of ticks on y-axis\n",
    "pylab.rcParams['ytick.major.size'] = 7\n",
    "#set size of markers, e.g., circles representing points\n",
    "#set numpoints for legend\n",
    "pylab.rcParams['legend.numpoints'] = 1"
   ]
  },
  {
   "cell_type": "code",
   "execution_count": 10,
   "metadata": {},
   "outputs": [
    {
     "data": {
      "text/plain": [
       "<matplotlib.legend.Legend at 0x1820ca68a90>"
      ]
     },
     "execution_count": 10,
     "metadata": {},
     "output_type": "execute_result"
    },
    {
     "data": {
      "image/png": "[encoded data removed]",
      "text/plain": [
       "<Figure size 432x288 with 1 Axes>"
      ]
     },
     "metadata": {
      "needs_background": "light"
     },
     "output_type": "display_data"
    }
   ],
   "source": [
    "xVals = [1, 2, 3, 4]\n",
    "yVals1 = [1, 2, 3, 4]\n",
    "pylab.plot(xVals, yVals1, 'b-', label = 'first')\n",
    "yVals2 = [1, 7, 3, 5]\n",
    "pylab.plot(xVals, yVals2, 'r--', label = 'second')\n",
    "pylab.legend()"
   ]
  },
  {
   "cell_type": "code",
   "execution_count": null,
   "metadata": {},
   "outputs": [],
   "source": []
  }
 ],
 "metadata": {
  "kernelspec": {
   "display_name": "Python 3",
   "language": "python",
   "name": "python3"
  },
  "language_info": {
   "codemirror_mode": {
    "name": "ipython",
    "version": 3
   },
   "file_extension": ".py",
   "mimetype": "text/x-python",
   "name": "python",
   "nbconvert_exporter": "python",
   "pygments_lexer": "ipython3",
   "version": "3.6.9"
  },
  "toc": {
   "base_numbering": 1,
   "nav_menu": {},
   "number_sections": true,
   "sideBar": true,
   "skip_h1_title": false,
   "title_cell": "Table of Contents",
   "title_sidebar": "Contents",
   "toc_cell": false,
   "toc_position": {},
   "toc_section_display": true,
   "toc_window_display": false
  }
 },
 "nbformat": 4,
 "nbformat_minor": 2
}
