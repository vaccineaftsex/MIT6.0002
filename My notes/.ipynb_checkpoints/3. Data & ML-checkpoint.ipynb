{
 "cells": [
  {
   "cell_type": "markdown",
   "metadata": {},
   "source": [
    "# Understanding Experimental Data\n",
    "* Modelling\n",
    "    * Least squares objective function: $\\sum_{i=0}^{len(observed)-1}(observed[i]-predicted[i])^2$\n",
    "        * ~ variance / # experiments\n",
    "    * Linear regression: find the curve of least square - polyfit\n",
    "        * Assume we want to find a polynomial\n",
    "        * model = pylab.polyfit(xVals, yVals, degree)\n",
    "* Prediction: polyval\n",
    "    * estyVals = pylab.polyval(model, xVals)\n",
    "* Which fit provides more accurate estimate?\n",
    "    * compare two different models for the same data: mean squared error $\\frac{\\sum_{i=0}^{len(observed)-1}(observed[i]-predicted[i])^2)}{len(data)}$\n",
    "    * absolute goodness of fit: coefficient of determination $R^2 = 1 - \\frac{\\sum(y_i-p_i)^2}{\\sum(y_i-\\mu)^2}$, where $y_i$ are measured values, $p_i$ are predicted values, $\\mu$ mean of measured values\n",
    "        * capture the portion of variability in the data is accounted for by my model\n",
    "        * r=1: variability is all accounted for!; r=0: the model does not capture anything\n",
    "    * problem of overfitting: not only fit the underlying process, but also the noise\n",
    "        * cross validation: generate model using one dataset and test them on another dataset\n",
    "            * small data-set: leave-one-out cross validation\n",
    "            * larger data-set\n",
    "                * k-fold cross validation: partition into k equal size sets, model trained on k-1 sets, test on the remaining set\n",
    "                * repeated random sampling: randomly select n elements to train model, test on the remaining elements\n",
    "        * visualise as search process\n",
    "        "
   ]
  },
  {
   "cell_type": "code",
   "execution_count": null,
   "metadata": {},
   "outputs": [],
   "source": [
    "import random, pylab, numpy\n",
    "def plotData(fileName):\n",
    "    xVals, yVals = getData(fileName)\n",
    "    xVals = pylab.array(xVals)\n",
    "    yVals = pylab.array(yVals)\n",
    "    xVals = xVals*9.81  #acc. due to gravity\n",
    "    pylab.plot(xVals, yVals, 'bo',\n",
    "               label = 'Measured displacements')"
   ]
  },
  {
   "cell_type": "code",
   "execution_count": null,
   "metadata": {},
   "outputs": [],
   "source": [
    "def aveMeanSquareError(data, predicted):\n",
    "    error = 0.0\n",
    "    for i in range(len(data)):\n",
    "        error += (data[i] - predicted[i])**2\n",
    "    return error/len(data)\n",
    "\n",
    "def rSquared(observed, predicted):\n",
    "    error = ((predicted - observed)**2).sum()\n",
    "    meanError = error/len(observed)\n",
    "    return 1 - (meanError/numpy.var(observed))"
   ]
  },
  {
   "cell_type": "code",
   "execution_count": null,
   "metadata": {},
   "outputs": [],
   "source": [
    "def genFits(xVals, yVals, degrees):\n",
    "    models = []\n",
    "    for d in degrees:\n",
    "        model = pylab.polyfit(xVals, yVals, d)\n",
    "        models.append(model)\n",
    "    return models\n",
    "\n",
    "def testFits(models, degrees, xVals, yVals, title):\n",
    "    pylab.plot(xVals, yVals, 'o', label = 'Data')\n",
    "    for i in range(len(models)):\n",
    "        estYVals = pylab.polyval(models[i], xVals)\n",
    "        error = rSquared(yVals, estYVals)\n",
    "        pylab.plot(xVals, estYVals,\n",
    "                   label = 'Fit of degree '\\\n",
    "                   + str(degrees[i])\\\n",
    "                   + ', R2 = ' + str(round(error, 5)))\n",
    "    pylab.legend(loc = 'best')\n",
    "    pylab.title(title)"
   ]
  },
  {
   "cell_type": "code",
   "execution_count": null,
   "metadata": {},
   "outputs": [],
   "source": [
    "def LeaveOneOutCrossValidation(dataset):\n",
    "    testResults = []\n",
    "    for i in range(len(dataset)):\n",
    "        training = dataset[:].pop(i)\n",
    "        model = buildModel(training)\n",
    "        testResults.append(test(model, dataset[i]))\n",
    "    avg = sum(testResults)/len(testResults)\n",
    "\n",
    "def RepeatedRandomSampling(dataset, num_trials, num_train):\n",
    "    testResults = []\n",
    "    for i in range(num_trials):\n",
    "        trainX, trainY, testX, testY = splitData(xVals,)\n",
    "        model = buildModel(training)\n",
    "        testResults.append(test(model,testSet))\n",
    "    avg = sum(testResults)/len(testResults)"
   ]
  }
 ],
 "metadata": {
  "kernelspec": {
   "display_name": "Python 3",
   "language": "python",
   "name": "python3"
  },
  "language_info": {
   "codemirror_mode": {
    "name": "ipython",
    "version": 3
   },
   "file_extension": ".py",
   "mimetype": "text/x-python",
   "name": "python",
   "nbconvert_exporter": "python",
   "pygments_lexer": "ipython3",
   "version": "3.6.9"
  },
  "toc": {
   "base_numbering": 1,
   "nav_menu": {},
   "number_sections": true,
   "sideBar": true,
   "skip_h1_title": false,
   "title_cell": "Table of Contents",
   "title_sidebar": "Contents",
   "toc_cell": false,
   "toc_position": {},
   "toc_section_display": true,
   "toc_window_display": false
  }
 },
 "nbformat": 4,
 "nbformat_minor": 2
}
