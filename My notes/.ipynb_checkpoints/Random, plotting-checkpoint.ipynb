{
 "cells": [
  {
   "cell_type": "markdown",
   "metadata": {},
   "source": [
    "# Random number generator\n",
    "\n",
    "* for integers"
   ]
  },
  {
   "cell_type": "code",
   "execution_count": 1,
   "metadata": {},
   "outputs": [],
   "source": [
    "import random\n",
    "random.seed(0)"
   ]
  },
  {
   "cell_type": "code",
   "execution_count": 2,
   "metadata": {},
   "outputs": [
    {
     "name": "stdout",
     "output_type": "stream",
     "text": [
      "4 3\n"
     ]
    }
   ],
   "source": [
    "x1 = random.randrange(1, 5, 1)  # a random element in range(1,5,1)\n",
    "x2 = random.randint(0,3)\n",
    "print(x1, x2)"
   ]
  },
  {
   "cell_type": "markdown",
   "metadata": {},
   "source": [
    "* for sequences"
   ]
  },
  {
   "cell_type": "code",
   "execution_count": 3,
   "metadata": {},
   "outputs": [
    {
     "name": "stdout",
     "output_type": "stream",
     "text": [
      "1 [2] [65, 62, 51]\n",
      "[65, 51, 62]\n",
      "[51, 65, 62]\n"
     ]
    }
   ],
   "source": [
    "x3 = random.choice([1,2,3,4,5]) \n",
    "x4 = random.choices(population = [1,2,3,4,5], weights = [1,4,2,5,1])  # or cum_weights = [1,5,7,12,13]\n",
    "x5 = random.sample(range(100), k = 3) # length-3 sample list, sampling without replacement\n",
    "print( x3, x4, x5)\n",
    "\n",
    "random.shuffle(x5)  # if x5 is mutable\n",
    "print(x5)\n",
    "\n",
    "x5_1 = tuple(x5)    # if s5_1 is immutable\n",
    "print(random.sample(x5_1, len(x5_1)))"
   ]
  },
  {
   "cell_type": "markdown",
   "metadata": {},
   "source": [
    "* Real-valued distributions"
   ]
  },
  {
   "cell_type": "code",
   "execution_count": null,
   "metadata": {},
   "outputs": [],
   "source": [
    "a1 = random.random()   # in [0.0, 1.0)\n",
    "a2 = random.uniform(1, 5)\n",
    "a3 = random.triangular(low = 0, high = 1, mode = 1/2*(low+ high)) \n",
    "a4 = random.betavariate(alpha, beta)\n",
    "a5 = random.expovariate(lambd)\n",
    "a6 = random.gammavariate(alpha, beta)\n",
    "a7 = random.gauss(mu, sigma)    # slighter faster than normalvariate\n",
    "a8 = random.normalvariate(mu, sigma)\n",
    "a9 = random.lognormvariate(mu, sigma)"
   ]
  },
  {
   "cell_type": "markdown",
   "metadata": {},
   "source": [
    "# Plotting"
   ]
  },
  {
   "cell_type": "code",
   "execution_count": 4,
   "metadata": {},
   "outputs": [],
   "source": [
    "import pylab\n",
    "#set line width\n",
    "pylab.rcParams['lines.linewidth'] = 2\n",
    "#set font size for titles \n",
    "pylab.rcParams['axes.titlesize'] = 15\n",
    "#set font size for labels on axes\n",
    "pylab.rcParams['axes.labelsize'] = 20\n",
    "#set size of numbers on x-axis\n",
    "pylab.rcParams['xtick.labelsize'] = 16\n",
    "#set size of numbers on y-axis\n",
    "pylab.rcParams['ytick.labelsize'] = 16\n",
    "#set size of ticks on x-axis\n",
    "pylab.rcParams['xtick.major.size'] = 7\n",
    "#set size of ticks on y-axis\n",
    "pylab.rcParams['ytick.major.size'] = 7\n",
    "#set size of markers, e.g., circles representing points\n",
    "#set numpoints for legend\n",
    "pylab.rcParams['legend.numpoints'] = 1"
   ]
  },
  {
   "cell_type": "code",
   "execution_count": 5,
   "metadata": {},
   "outputs": [
    {
     "data": {
      "text/plain": [
       "<matplotlib.legend.Legend at 0x242ee91eba8>"
      ]
     },
     "execution_count": 5,
     "metadata": {},
     "output_type": "execute_result"
    },
    {
     "data": {
      "image/png": "[encoded data removed]",
      "text/plain": [
       "<Figure size 432x288 with 1 Axes>"
      ]
     },
     "metadata": {
      "needs_background": "light"
     },
     "output_type": "display_data"
    }
   ],
   "source": [
    "xVals = [1, 2, 3, 4]\n",
    "yVals1 = [1, 2, 3, 4]\n",
    "pylab.plot(xVals, yVals1, 'b-', label = 'first')\n",
    "yVals2 = [1, 7, 3, 5]\n",
    "pylab.plot(xVals, yVals2, 'r--', label = 'second')\n",
    "pylab.legend()"
   ]
  },
  {
   "cell_type": "code",
   "execution_count": 9,
   "metadata": {},
   "outputs": [
    {
     "name": "stdout",
     "output_type": "stream",
     "text": [
      "Fraction within ~200 of mean = 0.9571469999999963\n"
     ]
    },
    {
     "data": {
      "text/plain": [
       "<matplotlib.lines.Line2D at 0x242f01f77b8>"
      ]
     },
     "execution_count": 9,
     "metadata": {},
     "output_type": "execute_result"
    },
    {
     "data": {
      "image/png": "[encoded data removed]",
      "text/plain": [
       "<Figure size 432x288 with 1 Axes>"
      ]
     },
     "metadata": {
      "needs_background": "light"
     },
     "output_type": "display_data"
    }
   ],
   "source": [
    "random.seed(1)\n",
    "dist, numSamples = [], 1000000\n",
    "\n",
    "for i in range(numSamples):\n",
    "    dist.append(random.gauss(0, 100))\n",
    "\n",
    "v = pylab.hist(dist, bins = 100,   # bins defines the number of equal-width bins in the range\n",
    "               weights = [1/numSamples]*len(dist))    # Each value in x only contributes its associated weight towards the bin count (instead of 1).\n",
    "                # a list of length 1e6, each with magnitude 1e-6\n",
    "print('Fraction within ~200 of mean =', sum(v[0][30:70]))\n",
    "\n",
    "pylab.axvline(x = 0, color = 'r')"
   ]
  },
  {
   "cell_type": "code",
   "execution_count": null,
   "metadata": {},
   "outputs": [],
   "source": []
  }
 ],
 "metadata": {
  "kernelspec": {
   "display_name": "Python 3",
   "language": "python",
   "name": "python3"
  },
  "language_info": {
   "codemirror_mode": {
    "name": "ipython",
    "version": 3
   },
   "file_extension": ".py",
   "mimetype": "text/x-python",
   "name": "python",
   "nbconvert_exporter": "python",
   "pygments_lexer": "ipython3",
   "version": "3.6.9"
  },
  "toc": {
   "base_numbering": 1,
   "nav_menu": {},
   "number_sections": true,
   "sideBar": true,
   "skip_h1_title": false,
   "title_cell": "Table of Contents",
   "title_sidebar": "Contents",
   "toc_cell": false,
   "toc_position": {},
   "toc_section_display": true,
   "toc_window_display": false
  }
 },
 "nbformat": 4,
 "nbformat_minor": 2
}
